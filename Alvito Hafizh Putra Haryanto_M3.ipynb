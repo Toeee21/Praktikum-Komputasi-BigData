{
 "cells": [
  {
   "cell_type": "markdown",
   "metadata": {
    "id": "oyi-HD6auWZh"
   },
   "source": [
    "# MK Praktikum Unggulan Universitas Gunadarma\n",
    "# Nama Mata Kuliah: Praktikum Komputasi Big Data (Tingkat 2)  \n",
    "---\n",
    "### Overview Dataset\n",
    "\n",
    "Dataset yang digunakan pada pertemuan ini adalah \"Data Sensus Penghasilan\". Data ini diambil dari database biro Sensus 1994 oleh Ronny Kohavi dan Barry Becker (Data Mining and Visualization, Silicon Graphics).\n",
    "\n",
    "Data set ini berisikan beberapa kategori sebagai berikut:\n",
    "* age\n",
    "* sex\n",
    "* race\n",
    "* education\n",
    "* marital-status\n",
    "* workclass\n",
    "* occupation\n",
    "* relationship\n",
    "* native-country\n",
    "* hours-per-week\n",
    "* capital-loss\n",
    "* capital-gain\n",
    "* fnlwgt"
   ]
  },
  {
   "cell_type": "markdown",
   "metadata": {
    "id": "WsZjQYaHuWZl"
   },
   "source": [
    "# Exploratory Data Analysis (EDA)\n",
    "\n",
    "Pada praktikum ini, Anda akan melihat beberapa contoh Exploratory Data Analysis (EDA) pada data set sensus penghasilan. \n",
    "\n",
    "* [Pengambilan Data](#1)\n",
    "* [Univariate Analysis](#2)\n",
    "* [Bivariate Analysis](#3)"
   ]
  },
  {
   "cell_type": "markdown",
   "metadata": {
    "id": "-ABiJInruWZm"
   },
   "source": [
    "# Instruksi Tugas Praktikum FIKTI dan FTI\n",
    "\n",
    "<div class =\"alert alert-info\">\n",
    "    <strong>Daftar Program Studi:</strong><br>\n",
    "    <hr>\n",
    "    <strong> Fakultas Ilmu Komputer dan Teknologi Informasi</strong><br>\n",
    "    - Sistem Informasi (S1 - SI)<br>\n",
    "    - Sistem Komputer (S1 - SK)<br>\n",
    "    - Program Studi Manajemen Informatika (D3 - MI)<br>\n",
    "    - Program Studi Teknik Komputer (D3 - TK)<br><br>\n",
    "    <strong> Fakultas Teknologi Industri</strong><br>\n",
    "    - Informatika (S1)<br>\n",
    "    - Teknik Mesin (S1)<br>\n",
    "    - Teknik Industri (S1)<br>\n",
    "    - Teknik Elektro (S1)<br>\n",
    "    - Agroteknologi (S1)<br>\n",
    "</div>\n",
    "\n",
    "\n",
    "1. Buat dan jelaskan univariate analysis untuk kategori <code>hours-per-week</code> dan <code>income</code>\n",
    "2. Buat dan jelaskan Bivariate analysis untuk hubungan antara <code>hours-per-week</code> dan <code>income</code>\n",
    "\n",
    "<b> Notes: </b> Lakukan instruksi tugas diakhir file hands-on."
   ]
  },
  {
   "cell_type": "markdown",
   "metadata": {
    "id": "dykt5GSauWZm"
   },
   "source": [
    "<a id=\"1\"></a>\n",
    "\n",
    "# 1. Pengambilan Data:"
   ]
  },
  {
   "cell_type": "markdown",
   "metadata": {
    "id": "PjlJwCJpuWZm"
   },
   "source": [
    "## 1.1 Import packages"
   ]
  },
  {
   "cell_type": "code",
   "execution_count": 13,
   "metadata": {
    "id": "PR0CHcmjuWZn"
   },
   "outputs": [],
   "source": [
    "import numpy as np \n",
    "import pandas as pd \n",
    "import seaborn as sns\n",
    "import matplotlib.pyplot as plt\n",
    "%matplotlib inline\n",
    "import warnings\n",
    "warnings.filterwarnings(\"ignore\")\n",
    "from scipy.stats import ttest_ind, ttest_rel\n",
    "from scipy import stats"
   ]
  },
  {
   "cell_type": "markdown",
   "metadata": {
    "id": "LP3sVhSGuWZn"
   },
   "source": [
    "## 1.2 Import data"
   ]
  },
  {
   "cell_type": "code",
   "execution_count": 15,
   "metadata": {
    "colab": {
     "base_uri": "https://localhost:8080/",
     "height": 598
    },
    "executionInfo": {
     "elapsed": 31,
     "status": "ok",
     "timestamp": 1666769181690,
     "user": {
      "displayName": "Fanka Arie Reza",
      "userId": "12919475048251983744"
     },
     "user_tz": -420
    },
    "id": "MWonpCeIuWZo",
    "outputId": "a13f1342-4186-4331-c9f2-7bb89aa40a7c"
   },
   "outputs": [
    {
     "data": {
      "text/html": [
       "<div>\n",
       "<style scoped>\n",
       "    .dataframe tbody tr th:only-of-type {\n",
       "        vertical-align: middle;\n",
       "    }\n",
       "\n",
       "    .dataframe tbody tr th {\n",
       "        vertical-align: top;\n",
       "    }\n",
       "\n",
       "    .dataframe thead th {\n",
       "        text-align: right;\n",
       "    }\n",
       "</style>\n",
       "<table border=\"1\" class=\"dataframe\">\n",
       "  <thead>\n",
       "    <tr style=\"text-align: right;\">\n",
       "      <th></th>\n",
       "      <th>age</th>\n",
       "      <th>workclass</th>\n",
       "      <th>fnlwgt</th>\n",
       "      <th>education</th>\n",
       "      <th>educational-num</th>\n",
       "      <th>marital-status</th>\n",
       "      <th>occupation</th>\n",
       "      <th>relationship</th>\n",
       "      <th>race</th>\n",
       "      <th>gender</th>\n",
       "      <th>capital-gain</th>\n",
       "      <th>capital-loss</th>\n",
       "      <th>hours-per-week</th>\n",
       "      <th>native-country</th>\n",
       "      <th>income</th>\n",
       "    </tr>\n",
       "  </thead>\n",
       "  <tbody>\n",
       "    <tr>\n",
       "      <th>0</th>\n",
       "      <td>25</td>\n",
       "      <td>Private</td>\n",
       "      <td>226802</td>\n",
       "      <td>11th</td>\n",
       "      <td>7</td>\n",
       "      <td>Never-married</td>\n",
       "      <td>Machine-op-inspct</td>\n",
       "      <td>Own-child</td>\n",
       "      <td>Black</td>\n",
       "      <td>Male</td>\n",
       "      <td>0</td>\n",
       "      <td>0</td>\n",
       "      <td>40</td>\n",
       "      <td>United-States</td>\n",
       "      <td>&lt;=50K</td>\n",
       "    </tr>\n",
       "    <tr>\n",
       "      <th>1</th>\n",
       "      <td>38</td>\n",
       "      <td>Private</td>\n",
       "      <td>89814</td>\n",
       "      <td>HS-grad</td>\n",
       "      <td>9</td>\n",
       "      <td>Married-civ-spouse</td>\n",
       "      <td>Farming-fishing</td>\n",
       "      <td>Husband</td>\n",
       "      <td>White</td>\n",
       "      <td>Male</td>\n",
       "      <td>0</td>\n",
       "      <td>0</td>\n",
       "      <td>50</td>\n",
       "      <td>United-States</td>\n",
       "      <td>&lt;=50K</td>\n",
       "    </tr>\n",
       "    <tr>\n",
       "      <th>2</th>\n",
       "      <td>28</td>\n",
       "      <td>Local-gov</td>\n",
       "      <td>336951</td>\n",
       "      <td>Assoc-acdm</td>\n",
       "      <td>12</td>\n",
       "      <td>Married-civ-spouse</td>\n",
       "      <td>Protective-serv</td>\n",
       "      <td>Husband</td>\n",
       "      <td>White</td>\n",
       "      <td>Male</td>\n",
       "      <td>0</td>\n",
       "      <td>0</td>\n",
       "      <td>40</td>\n",
       "      <td>United-States</td>\n",
       "      <td>&gt;50K</td>\n",
       "    </tr>\n",
       "    <tr>\n",
       "      <th>3</th>\n",
       "      <td>44</td>\n",
       "      <td>Private</td>\n",
       "      <td>160323</td>\n",
       "      <td>Some-college</td>\n",
       "      <td>10</td>\n",
       "      <td>Married-civ-spouse</td>\n",
       "      <td>Machine-op-inspct</td>\n",
       "      <td>Husband</td>\n",
       "      <td>Black</td>\n",
       "      <td>Male</td>\n",
       "      <td>7688</td>\n",
       "      <td>0</td>\n",
       "      <td>40</td>\n",
       "      <td>United-States</td>\n",
       "      <td>&gt;50K</td>\n",
       "    </tr>\n",
       "    <tr>\n",
       "      <th>4</th>\n",
       "      <td>18</td>\n",
       "      <td>?</td>\n",
       "      <td>103497</td>\n",
       "      <td>Some-college</td>\n",
       "      <td>10</td>\n",
       "      <td>Never-married</td>\n",
       "      <td>?</td>\n",
       "      <td>Own-child</td>\n",
       "      <td>White</td>\n",
       "      <td>Female</td>\n",
       "      <td>0</td>\n",
       "      <td>0</td>\n",
       "      <td>30</td>\n",
       "      <td>United-States</td>\n",
       "      <td>&lt;=50K</td>\n",
       "    </tr>\n",
       "    <tr>\n",
       "      <th>5</th>\n",
       "      <td>34</td>\n",
       "      <td>Private</td>\n",
       "      <td>198693</td>\n",
       "      <td>10th</td>\n",
       "      <td>6</td>\n",
       "      <td>Never-married</td>\n",
       "      <td>Other-service</td>\n",
       "      <td>Not-in-family</td>\n",
       "      <td>White</td>\n",
       "      <td>Male</td>\n",
       "      <td>0</td>\n",
       "      <td>0</td>\n",
       "      <td>30</td>\n",
       "      <td>United-States</td>\n",
       "      <td>&lt;=50K</td>\n",
       "    </tr>\n",
       "    <tr>\n",
       "      <th>6</th>\n",
       "      <td>29</td>\n",
       "      <td>?</td>\n",
       "      <td>227026</td>\n",
       "      <td>HS-grad</td>\n",
       "      <td>9</td>\n",
       "      <td>Never-married</td>\n",
       "      <td>?</td>\n",
       "      <td>Unmarried</td>\n",
       "      <td>Black</td>\n",
       "      <td>Male</td>\n",
       "      <td>0</td>\n",
       "      <td>0</td>\n",
       "      <td>40</td>\n",
       "      <td>United-States</td>\n",
       "      <td>&lt;=50K</td>\n",
       "    </tr>\n",
       "    <tr>\n",
       "      <th>7</th>\n",
       "      <td>63</td>\n",
       "      <td>Self-emp-not-inc</td>\n",
       "      <td>104626</td>\n",
       "      <td>Prof-school</td>\n",
       "      <td>15</td>\n",
       "      <td>Married-civ-spouse</td>\n",
       "      <td>Prof-specialty</td>\n",
       "      <td>Husband</td>\n",
       "      <td>White</td>\n",
       "      <td>Male</td>\n",
       "      <td>3103</td>\n",
       "      <td>0</td>\n",
       "      <td>32</td>\n",
       "      <td>United-States</td>\n",
       "      <td>&gt;50K</td>\n",
       "    </tr>\n",
       "    <tr>\n",
       "      <th>8</th>\n",
       "      <td>24</td>\n",
       "      <td>Private</td>\n",
       "      <td>369667</td>\n",
       "      <td>Some-college</td>\n",
       "      <td>10</td>\n",
       "      <td>Never-married</td>\n",
       "      <td>Other-service</td>\n",
       "      <td>Unmarried</td>\n",
       "      <td>White</td>\n",
       "      <td>Female</td>\n",
       "      <td>0</td>\n",
       "      <td>0</td>\n",
       "      <td>40</td>\n",
       "      <td>United-States</td>\n",
       "      <td>&lt;=50K</td>\n",
       "    </tr>\n",
       "    <tr>\n",
       "      <th>9</th>\n",
       "      <td>55</td>\n",
       "      <td>Private</td>\n",
       "      <td>104996</td>\n",
       "      <td>7th-8th</td>\n",
       "      <td>4</td>\n",
       "      <td>Married-civ-spouse</td>\n",
       "      <td>Craft-repair</td>\n",
       "      <td>Husband</td>\n",
       "      <td>White</td>\n",
       "      <td>Male</td>\n",
       "      <td>0</td>\n",
       "      <td>0</td>\n",
       "      <td>10</td>\n",
       "      <td>United-States</td>\n",
       "      <td>&lt;=50K</td>\n",
       "    </tr>\n",
       "  </tbody>\n",
       "</table>\n",
       "</div>"
      ],
      "text/plain": [
       "   age         workclass  fnlwgt     education  educational-num  \\\n",
       "0   25           Private  226802          11th                7   \n",
       "1   38           Private   89814       HS-grad                9   \n",
       "2   28         Local-gov  336951    Assoc-acdm               12   \n",
       "3   44           Private  160323  Some-college               10   \n",
       "4   18                 ?  103497  Some-college               10   \n",
       "5   34           Private  198693          10th                6   \n",
       "6   29                 ?  227026       HS-grad                9   \n",
       "7   63  Self-emp-not-inc  104626   Prof-school               15   \n",
       "8   24           Private  369667  Some-college               10   \n",
       "9   55           Private  104996       7th-8th                4   \n",
       "\n",
       "       marital-status         occupation   relationship   race  gender  \\\n",
       "0       Never-married  Machine-op-inspct      Own-child  Black    Male   \n",
       "1  Married-civ-spouse    Farming-fishing        Husband  White    Male   \n",
       "2  Married-civ-spouse    Protective-serv        Husband  White    Male   \n",
       "3  Married-civ-spouse  Machine-op-inspct        Husband  Black    Male   \n",
       "4       Never-married                  ?      Own-child  White  Female   \n",
       "5       Never-married      Other-service  Not-in-family  White    Male   \n",
       "6       Never-married                  ?      Unmarried  Black    Male   \n",
       "7  Married-civ-spouse     Prof-specialty        Husband  White    Male   \n",
       "8       Never-married      Other-service      Unmarried  White  Female   \n",
       "9  Married-civ-spouse       Craft-repair        Husband  White    Male   \n",
       "\n",
       "   capital-gain  capital-loss  hours-per-week native-country income  \n",
       "0             0             0              40  United-States  <=50K  \n",
       "1             0             0              50  United-States  <=50K  \n",
       "2             0             0              40  United-States   >50K  \n",
       "3          7688             0              40  United-States   >50K  \n",
       "4             0             0              30  United-States  <=50K  \n",
       "5             0             0              30  United-States  <=50K  \n",
       "6             0             0              40  United-States  <=50K  \n",
       "7          3103             0              32  United-States   >50K  \n",
       "8             0             0              40  United-States  <=50K  \n",
       "9             0             0              10  United-States  <=50K  "
      ]
     },
     "execution_count": 15,
     "metadata": {},
     "output_type": "execute_result"
    }
   ],
   "source": [
    "data = pd.read_csv(\"https://gitlab.com/andreass.bayu/file-directory/-/raw/main/adult.csv\")\n",
    "data.head(10)"
   ]
  },
  {
   "cell_type": "code",
   "execution_count": 16,
   "metadata": {
    "colab": {
     "base_uri": "https://localhost:8080/"
    },
    "executionInfo": {
     "elapsed": 30,
     "status": "ok",
     "timestamp": 1666769181692,
     "user": {
      "displayName": "Fanka Arie Reza",
      "userId": "12919475048251983744"
     },
     "user_tz": -420
    },
    "id": "GOWjUeHU5KXZ",
    "outputId": "07d305c6-306d-4164-85c3-fa6f16d6e89e"
   },
   "outputs": [
    {
     "data": {
      "text/plain": [
       "(48842, 15)"
      ]
     },
     "execution_count": 16,
     "metadata": {},
     "output_type": "execute_result"
    }
   ],
   "source": [
    "data.shape"
   ]
  },
  {
   "cell_type": "code",
   "execution_count": 17,
   "metadata": {
    "colab": {
     "base_uri": "https://localhost:8080/"
    },
    "executionInfo": {
     "elapsed": 29,
     "status": "ok",
     "timestamp": 1666769181694,
     "user": {
      "displayName": "Fanka Arie Reza",
      "userId": "12919475048251983744"
     },
     "user_tz": -420
    },
    "id": "N4oOMfn-7vla",
    "outputId": "c0f4e100-3f44-4369-faa2-e4bd33552bca"
   },
   "outputs": [
    {
     "data": {
      "text/plain": [
       "age                 int64\n",
       "workclass          object\n",
       "fnlwgt              int64\n",
       "education          object\n",
       "educational-num     int64\n",
       "marital-status     object\n",
       "occupation         object\n",
       "relationship       object\n",
       "race               object\n",
       "gender             object\n",
       "capital-gain        int64\n",
       "capital-loss        int64\n",
       "hours-per-week      int64\n",
       "native-country     object\n",
       "income             object\n",
       "dtype: object"
      ]
     },
     "execution_count": 17,
     "metadata": {},
     "output_type": "execute_result"
    }
   ],
   "source": [
    "data.dtypes"
   ]
  },
  {
   "cell_type": "markdown",
   "metadata": {
    "id": "y-nNxtO8uWZp"
   },
   "source": [
    "# 2. Exploratory Data Analysis (EDA)"
   ]
  },
  {
   "cell_type": "markdown",
   "metadata": {
    "id": "OQOvMO7VuWZp"
   },
   "source": [
    "## 2.1.Univariate analysis\n",
    "<a id=\"2\"></a>\n",
    "\n",
    "- Jenis analisis statistik yang melibatkan satu variabel pada suatu waktu.\n",
    "- Tujuannya adalah untuk memberikan gambaran tentang distribusi, statistik deskriptif, dan sifat-sifat lainnya dari variabel tunggal.\n",
    "- Contoh analisis univariat termasuk histogram, box plot, ringkasan statistik seperti mean, median, dan modus, serta penghitungan frekuensi."
   ]
  },
  {
   "cell_type": "markdown",
   "metadata": {
    "id": "CdJPcHmEuWZp"
   },
   "source": [
    "## 2.1.1 Kolom \"Age\""
   ]
  },
  {
   "cell_type": "markdown",
   "metadata": {
    "id": "LziCQMb7uWZq"
   },
   "source": [
    "### **i.\tDistribusi**"
   ]
  },
  {
   "cell_type": "code",
   "execution_count": 22,
   "metadata": {
    "colab": {
     "base_uri": "https://localhost:8080/",
     "height": 483
    },
    "executionInfo": {
     "elapsed": 29,
     "status": "ok",
     "timestamp": 1666769181695,
     "user": {
      "displayName": "Fanka Arie Reza",
      "userId": "12919475048251983744"
     },
     "user_tz": -420
    },
    "id": "wEF53U5cuWZq",
    "outputId": "82a9af08-ad37-447d-f1ae-e15a0d2be1ba"
   },
   "outputs": [
    {
     "data": {
      "image/png": "[encoded data removed]",
      "text/plain": [
       "<Figure size 800x800 with 1 Axes>"
      ]
     },
     "metadata": {},
     "output_type": "display_data"
    }
   ],
   "source": [
    "# Visualisasi HISTOGRAM\n",
    "# Distribusi data dari kolom \"Age\"\n",
    "data['age'].hist(figsize=(8,8))\n",
    "plt.show()"
   ]
  },
  {
   "cell_type": "code",
   "execution_count": 23,
   "metadata": {
    "colab": {
     "base_uri": "https://localhost:8080/"
    },
    "executionInfo": {
     "elapsed": 29,
     "status": "ok",
     "timestamp": 1666769181696,
     "user": {
      "displayName": "Fanka Arie Reza",
      "userId": "12919475048251983744"
     },
     "user_tz": -420
    },
    "id": "UenLC3SyuWZq",
    "outputId": "0dc3ea95-b7ca-4c81-d031-b8a868f3af27"
   },
   "outputs": [
    {
     "data": {
      "text/plain": [
       "(868, 15)"
      ]
     },
     "execution_count": 23,
     "metadata": {},
     "output_type": "execute_result"
    }
   ],
   "source": [
    "data[data[\"age\"]>70].shape"
   ]
  },
  {
   "cell_type": "markdown",
   "metadata": {
    "id": "WuY6MqqcuWZq"
   },
   "source": [
    "### **ii.\tDeskripsi**\n",
    "Histogram di atas menjelaskan bahwa:\n",
    "*  Atribut \"usia\" tidak simetris.\n",
    "*  Miring ke kanan (Tapi ini baik karena orang dewasa yang lebih muda mendapatkan upah bukan yang lebih tua).\n",
    "*  Usia minimum dan maksimum orang adalah 17 dan 90 tahun.\n",
    "*  Dataset ini memiliki lebih sedikit pengamatan (868) tentang usia orang setelah usia tertentu, yaitu 70 tahun."
   ]
  },
  {
   "cell_type": "markdown",
   "metadata": {
    "id": "0vIbvlqeuWZr"
   },
   "source": [
    "## 2.1.2 Kolom \"Income\""
   ]
  },
  {
   "cell_type": "markdown",
   "metadata": {
    "id": "pOesdoq_uWZr"
   },
   "source": [
    "### **i. Distribusi**"
   ]
  },
  {
   "cell_type": "code",
   "execution_count": 27,
   "metadata": {
    "colab": {
     "base_uri": "https://localhost:8080/",
     "height": 442
    },
    "executionInfo": {
     "elapsed": 28,
     "status": "ok",
     "timestamp": 1666769181697,
     "user": {
      "displayName": "Fanka Arie Reza",
      "userId": "12919475048251983744"
     },
     "user_tz": -420
    },
    "id": "7MSUXSeEuWZr",
    "outputId": "2dbdd5bc-7f3e-4429-9be3-d6fabfb562b0"
   },
   "outputs": [
    {
     "data": {
      "image/png": "[encoded data removed]",
      "text/plain": [
       "<Figure size 700x700 with 1 Axes>"
      ]
     },
     "metadata": {},
     "output_type": "display_data"
    }
   ],
   "source": [
    "# Visualisasi BOXPLOT\n",
    "# Distribusi data dari kolom \"Income\"\n",
    "plt.figure(figsize=(7,7))\n",
    "total = float(len(data) )\n",
    "\n",
    "ax = sns.countplot(x=\"income\", data=data)\n",
    "for p in ax.patches:\n",
    "    height = p.get_height()\n",
    "    ax.text(p.get_x()+p.get_width()/2.,\n",
    "            height + 3,\n",
    "            '{:1.2f}'.format((height/total)*100),\n",
    "            ha=\"center\") \n",
    "plt.show()"
   ]
  },
  {
   "cell_type": "markdown",
   "metadata": {
    "id": "s-cI3kRRuWZr"
   },
   "source": [
    "### **ii. Deskripsi**\n",
    "Distribusi di atas menjelaskan bahwa **Dataset ini tidak seimbang, yaitu 23,93% di antaranya termasuk dalam kelompok pendapatan 1 (yang berpenghasilan lebih dari \\\\$50K) dan 76% termasuk dalam kelompok pendapatan 0 (yang berpenghasilan kurang dari \\\\$50K).**"
   ]
  },
  {
   "cell_type": "markdown",
   "metadata": {
    "id": "wt1vcynkuWZr"
   },
   "source": [
    "<a id=\"3\"></a>\n",
    "# 2.2.Bivariate analysis\n",
    "\n",
    "- Analisis bivariate melibatkan dua variabel pada saat yang sama dan mencoba untuk memahami hubungan antara keduanya.\n",
    "- Analisis bivariate sering digunakan untuk menemukan korelasi atau asosiasi antara dua variabel, serta untuk memahami bagaimana variabel satu mempengaruhi variabel lainnya.\n",
    "- Contoh analisis bivariate meliputi scatter plot, korelasi pearson, korelasi spearman, dan uji-t dua sampel."
   ]
  },
  {
   "cell_type": "markdown",
   "metadata": {
    "id": "C9CEJHPLuWZs"
   },
   "source": [
    "## 2.2.1 Kolom \"Age\" & \"income\" (Hubungan)"
   ]
  },
  {
   "cell_type": "markdown",
   "metadata": {
    "id": "-D_aa8gwuWZs"
   },
   "source": [
    "### i. **Boxplot**"
   ]
  },
  {
   "cell_type": "code",
   "execution_count": 32,
   "metadata": {
    "colab": {
     "base_uri": "https://localhost:8080/",
     "height": 606
    },
    "executionInfo": {
     "elapsed": 2267,
     "status": "ok",
     "timestamp": 1666769183938,
     "user": {
      "displayName": "Fanka Arie Reza",
      "userId": "12919475048251983744"
     },
     "user_tz": -420
    },
    "id": "CXYUfkeWuWZs",
    "outputId": "a15a04a8-9034-4e27-b290-4b128383c20c"
   },
   "outputs": [
    {
     "data": {
      "image/png": "[encoded data removed]",
      "text/plain": [
       "<Figure size 1000x1000 with 1 Axes>"
      ]
     },
     "metadata": {},
     "output_type": "display_data"
    }
   ],
   "source": [
    "fig = plt.figure(figsize=(10,10)) \n",
    "sns.boxplot(x=\"income\", y=\"age\", data=data)\n",
    "plt.show()"
   ]
  },
  {
   "cell_type": "code",
   "execution_count": 33,
   "metadata": {
    "colab": {
     "base_uri": "https://localhost:8080/",
     "height": 112
    },
    "executionInfo": {
     "elapsed": 29,
     "status": "ok",
     "timestamp": 1666769183939,
     "user": {
      "displayName": "Fanka Arie Reza",
      "userId": "12919475048251983744"
     },
     "user_tz": -420
    },
    "id": "9FnXZ9MOuWZs",
    "outputId": "7e590cc8-323f-49b0-b14f-d16853877822"
   },
   "outputs": [
    {
     "data": {
      "text/html": [
       "<div>\n",
       "<style scoped>\n",
       "    .dataframe tbody tr th:only-of-type {\n",
       "        vertical-align: middle;\n",
       "    }\n",
       "\n",
       "    .dataframe tbody tr th {\n",
       "        vertical-align: top;\n",
       "    }\n",
       "\n",
       "    .dataframe thead th {\n",
       "        text-align: right;\n",
       "    }\n",
       "</style>\n",
       "<table border=\"1\" class=\"dataframe\">\n",
       "  <thead>\n",
       "    <tr style=\"text-align: right;\">\n",
       "      <th></th>\n",
       "      <th>income</th>\n",
       "      <th>age</th>\n",
       "    </tr>\n",
       "  </thead>\n",
       "  <tbody>\n",
       "    <tr>\n",
       "      <th>1</th>\n",
       "      <td>&gt;50K</td>\n",
       "      <td>44.275178</td>\n",
       "    </tr>\n",
       "    <tr>\n",
       "      <th>0</th>\n",
       "      <td>&lt;=50K</td>\n",
       "      <td>36.872184</td>\n",
       "    </tr>\n",
       "  </tbody>\n",
       "</table>\n",
       "</div>"
      ],
      "text/plain": [
       "  income        age\n",
       "1   >50K  44.275178\n",
       "0  <=50K  36.872184"
      ]
     },
     "execution_count": 33,
     "metadata": {},
     "output_type": "execute_result"
    }
   ],
   "source": [
    "data[['income', 'age']].groupby(['income'], as_index=False).mean().sort_values(by='age', ascending=False)"
   ]
  },
  {
   "cell_type": "markdown",
   "metadata": {
    "id": "JvdeNzVZuWZs"
   },
   "source": [
    "### ii. Deskripsi\n",
    "Bivariate boxplot di atas menjelaskan bahwa:\n",
    "* Rata-rata \"usia\" untuk kelompok penghasilan (<= \\\\$50K) adalah 36,8 tahun. Dan untuk kelompok penghasilan (> \\\\$50K) adalah 44,2 tahun.\n",
    "* Kelompok pendapatan (<=50K) memiliki median \"usia\" (34 tahun) lebih rendah daripada kelompok pendapatan (>50K) yang memiliki median \"usia\" (42 tahun)."
   ]
  },
  {
   "cell_type": "markdown",
   "metadata": {
    "id": "J813YnfcuWZt"
   },
   "source": [
    "### iii. Uji Hipotesis (untuk menguji hubungan antara kolom Age & Income )\n",
    "**Two sampled T-test**:\n",
    "Uji Independent Samples t Test atau 2-sample t-test membandingkan rata-rata dua kelompok independen untuk menentukan apakah ada bukti statistik bahwa rata-rata populasi terkait berbeda secara signifikan."
   ]
  },
  {
   "cell_type": "markdown",
   "metadata": {
    "id": "-aLmR3-huWZt"
   },
   "source": [
    "Contoh: Apakah ada hubungan antara usia dan pendapatan?"
   ]
  },
  {
   "cell_type": "markdown",
   "metadata": {
    "id": "ZMi_c6E_uWZt"
   },
   "source": [
    "Tentukan null dan alternate hypothesis:\n",
    "\n",
    "* Secara umum, null hypothesis akan menyatakan bahwa kedua populasi yang diuji tidak memiliki perbedaan yang signifikan secara statistik.\n",
    "* Alternate hypothesis akan menyatakan bahwa ada perbedaan."
   ]
  },
  {
   "cell_type": "markdown",
   "metadata": {
    "id": "1Sbd7ywluWZu"
   },
   "source": [
    "Dalam contoh ini kita dapat mengatakan bahwa:\n",
    "*  Null Hypothesis: Tidak ada perbedaan rata-rata usia kelompok pendapatan > 50k dan kelompok pendapatan <= 50k.\n",
    "*  Alternate Hypothesis: Ada perbedaan rata-rata usia kelompok pendapatan > 50k dan kelompok pendapatan <= 50k."
   ]
  },
  {
   "cell_type": "code",
   "execution_count": 39,
   "metadata": {
    "id": "aPP4YJs8uWZu"
   },
   "outputs": [],
   "source": [
    "import random\n",
    "\n",
    "data = data[(np.abs(stats.zscore(data[\"age\"])) < 3)] \n",
    "\n",
    "income_1 = data[data['income']=='<=50K']['age']\n",
    "income_0 = data[data['income']=='>50K']['age']\n",
    "\n",
    "income_0 = income_0.values.tolist()\n",
    "income_0 = random.sample(income_0, 100)\n",
    "income_1 = income_1.values.tolist()\n",
    "income_1 = random.sample(income_1, 100)\n"
   ]
  },
  {
   "cell_type": "code",
   "execution_count": 40,
   "metadata": {
    "colab": {
     "base_uri": "https://localhost:8080/"
    },
    "executionInfo": {
     "elapsed": 31,
     "status": "ok",
     "timestamp": 1666769183942,
     "user": {
      "displayName": "Fanka Arie Reza",
      "userId": "12919475048251983744"
     },
     "user_tz": -420
    },
    "id": "EsK1A0Q0uWZu",
    "outputId": "b13f6069-faa1-4098-ea86-82d1197c3a1d"
   },
   "outputs": [
    {
     "name": "stdout",
     "output_type": "stream",
     "text": [
      "ttest -2.9419040721981236\n",
      "p value 0.003680081981456227\n",
      "Kesimpulan: Null hypothesis ditolak\n"
     ]
    }
   ],
   "source": [
    "from scipy.stats import ttest_ind\n",
    "ttest,pval = ttest_ind(income_1,income_0,equal_var = False)\n",
    "print(\"ttest\",ttest)\n",
    "print('p value',pval)\n",
    "\n",
    "\n",
    "if pval < 0.05:\n",
    "    print(\"Kesimpulan: Null hypothesis ditolak\")\n",
    "else:\n",
    "    print(\"Kesimpulan: Null hypothesis diterima\")"
   ]
  },
  {
   "cell_type": "markdown",
   "metadata": {
    "id": "ic329omouWZv"
   },
   "source": [
    "### iv. Kesimpulan akhir"
   ]
  },
  {
   "cell_type": "markdown",
   "metadata": {
    "id": "zYPxeOFVuWZw"
   },
   "source": [
    "Menggunakan analisis statistik, dapat disimpulkan bahwa:\n",
    "* Terdapat perbedaan yang signifikan pada rata-rata usia kelompok berpenghasilan > 50K dan kelompok berpenghasilan <= 50K. Hal Ini membuktikan bahwa usia memiliki peranan dalam membedakan kelompok pendapatan."
   ]
  },
  {
   "cell_type": "markdown",
   "metadata": {
    "id": "Cn5k5ogouWZw"
   },
   "source": [
    "# Tugas\n",
    "1. Buat dan jelaskan univariate analysis untuk kategori <code>hours-per-week</code> dan <code>income</code>\n",
    "2. Buat dan jelaskan Bivariate analysis untuk hubungan antara <code>hours-per-week</code> dan <code>income</code>"
   ]
  },
  {
   "cell_type": "markdown",
   "metadata": {},
   "source": [
    "<div class=\"alert alert-info\">\n",
    "    <strong>Catatan!</strong><br>\n",
    "    - Pada bagian \"...#CODE HERE <...>\" digantikan dengan code python sesuai dengan perintah. <br>\n",
    "    - Pada bagian \"...# Ketik disini...\" silakan diketikkan jawaban atas pertanyaan yang diberikan menggunakan Bahasa Indonesia.\n",
    "    </div>"
   ]
  },
  {
   "cell_type": "markdown",
   "metadata": {},
   "source": [
    "<div class =\"alert alert-warning\">\n",
    "Silahkan tambahkan cell code apabila diperlukan.  \n",
    "\n",
    "</div>"
   ]
  },
  {
   "cell_type": "markdown",
   "metadata": {
    "id": "pv71JnEXuWZw"
   },
   "source": [
    "## 1. Univariate analysis"
   ]
  },
  {
   "cell_type": "markdown",
   "metadata": {
    "id": "SNSXlu26uWZx"
   },
   "source": [
    "## 1.1 Kolom \"hours-per-week\""
   ]
  },
  {
   "cell_type": "markdown",
   "metadata": {
    "id": "6YiszHgluWZx"
   },
   "source": [
    "### **i.\tDistribusi**"
   ]
  },
  {
   "cell_type": "code",
   "execution_count": 70,
   "metadata": {
    "id": "8LdMk87auWZy"
   },
   "outputs": [
    {
     "data": {
      "image/png": "[encoded data removed]",
      "text/plain": [
       "<Figure size 800x600 with 1 Axes>"
      ]
     },
     "metadata": {},
     "output_type": "display_data"
    }
   ],
   "source": [
    "# Buat histogram dari kolom \"hours-per-week\"\n",
    "# CODE HERE ...\n",
    "plt.figure(figsize=(8, 6))\n",
    "data['hours-per-week'].hist(bins=20, edgecolor='black')  # Mengatur jumlah bin dan warna tepi\n",
    "plt.title('Histogram of Hours per Week')  # Judul\n",
    "plt.xlabel('Hours per Week')  # Label sumbu x\n",
    "plt.ylabel('Frequency')  # Label sumbu y\n",
    "plt.grid(True)  # Menonaktifkan grid\n",
    "plt.show()"
   ]
  },
  {
   "cell_type": "markdown",
   "metadata": {
    "id": "6RCUBhjsuWZy"
   },
   "source": [
    "### **ii. Deskripsi**\n"
   ]
  },
  {
   "cell_type": "markdown",
   "metadata": {
    "id": "gxJ4GzRVuWZy"
   },
   "source": [
    "# Jelaskan hasil diagram tersebut\n",
    "Frekuensi Tertinggi:\n",
    "*  Dari histogram, dapat dilihat bahwa frekuensi paling tinggi terjadi pada rentang 35-40 jam per minggu.\n",
    "*  Ini menunjukkan bahwa mayoritas individu dalam dataset menghabiskan waktu kerja di sekitar jumlah jam tersebut, yang mencerminkan pola kerja standar.\n",
    "\n",
    "Frekuensi Terendah:\n",
    "*  Frekuensi terendah terlihat pada rentang 70-100 jam per minggu.\n",
    "*  Hal ini menunjukkan bahwa sangat sedikit orang yang bekerja dalam rentang jam yang sangat tinggi ini, mungkin disebabkan oleh kelelahan atau kebijakan kerja yang membatasi jam kerja.\n",
    "\n",
    "Frekuensi Antara Rentang:\n",
    "*  Selain itu, terdapat lebih banyak frekuensi pada rentang 40-65 jam per minggu dibandingkan dengan rentang 0-35 jam per minggu.\n",
    "*  Ini menunjukkan bahwa setelah jam kerja standar, banyak individu yang juga bekerja lebih dari 40 jam, tetapi tidak mencapai jam kerja yang sangat tinggi.\r\n"
   ]
  },
  {
   "cell_type": "markdown",
   "metadata": {
    "id": "0FF0XPanuWZz"
   },
   "source": [
    "## 1.2 Kolom \"Income\""
   ]
  },
  {
   "cell_type": "markdown",
   "metadata": {
    "id": "kcHsBQ5guWZz"
   },
   "source": [
    "### **i.\tDistribusi**"
   ]
  },
  {
   "cell_type": "code",
   "execution_count": 74,
   "metadata": {
    "id": "CAGbPLI1uWZz"
   },
   "outputs": [
    {
     "data": {
      "image/png": "[encoded data removed]",
      "text/plain": [
       "<Figure size 800x600 with 1 Axes>"
      ]
     },
     "metadata": {},
     "output_type": "display_data"
    }
   ],
   "source": [
    "# Buat histogram dari kolom \"Income\"\n",
    "# CODE HERE ...\n",
    "plt.figure(figsize=(8, 6))\n",
    "data['income'].hist(bins=2, edgecolor='black')  # Mengatur jumlah bin dan warna tepi\n",
    "plt.title('Histogram of Income')  # Judul\n",
    "plt.xlabel('Income')  # Label sumbu x\n",
    "plt.ylabel('Frequency')  # Label sumbu y\n",
    "plt.grid(True) \n",
    "plt.show()"
   ]
  },
  {
   "cell_type": "markdown",
   "metadata": {
    "id": "rEOzKdQvuWZz"
   },
   "source": [
    "### **ii. Deskripsi**"
   ]
  },
  {
   "cell_type": "markdown",
   "metadata": {
    "id": "SBGIlbShuWZ0"
   },
   "source": [
    "# Jelaskan hasil diagram tersebut\n",
    "# Ketik disini ...\n",
    "Frekuensi Penghasilan ≤ 50k:\n",
    "*  Dari histogram, terlihat bahwa jumlah orang yang memiliki penghasilan ≤ 50k jauh lebih banyak.\n",
    "*  Frekuensi untuk kelompok ini mencapai lebih dari 35,000 individu, menunjukkan bahwa mayoritas populasi dalam dataset memiliki penghasilan di bawah atau sama dengan 50k.\n",
    "\n",
    "Frekuensi Penghasilan > 50k:\n",
    "*  Sebaliknya, jumlah orang yang memiliki penghasilan > 50k jauh lebih sedikit.\n",
    "*  Frekuensi untuk kelompok ini berkisar antara 10,000 hingga 12,000 individu, menunjukkan bahwa hanya sebagian kecil populasi yang memperoleh penghasilan di atas 50k.\n",
    "\n",
    "Perbandingan yang Jelas:\n",
    "*  Terdapat perbedaan yang signifikan antara kedua kelompok tersebut, dengan proporsi orang yang berpenghasilan rendah (≤ 50k) jauh lebih tinggi dibandingkan dengan yang berpenghasilan tinggi (> 50k).\n",
    "*  Hal ini mencerminkan ketimpangan dalam distribusi penghasilan di dalam populasi yang dianalisis.\n",
    "\n",
    "Implikasi:\n",
    "*  Hasil ini dapat memberikan wawasan tentang kondisi ekonomi dan kesejahteraan masyarakat.\n",
    "*  Penting untuk mempertimbangkan faktor-faktor yang mempengaruhi distribusi penghasilan ini, seperti pendidikan, jenis pekerjaan, dan lokasi geografis."
   ]
  },
  {
   "cell_type": "markdown",
   "metadata": {
    "id": "XHDsguGCuWZ2"
   },
   "source": [
    "# 2. Bivariate analysis"
   ]
  },
  {
   "cell_type": "markdown",
   "metadata": {
    "id": "e5ZWBP99uWZ7"
   },
   "source": [
    "## 2.1 Kolom \"hours-per-week\" & \"income\" (Hubungan)"
   ]
  },
  {
   "cell_type": "code",
   "execution_count": 91,
   "metadata": {
    "id": "f1w4l7VmuWZ8"
   },
   "outputs": [
    {
     "data": {
      "image/png": "[encoded data removed]",
      "text/plain": [
       "<Figure size 1000x1000 with 1 Axes>"
      ]
     },
     "metadata": {},
     "output_type": "display_data"
    }
   ],
   "source": [
    "# Buat BOXPLOT, hubungan \"hours-per-week\" dengan \"income\"\n",
    "# CODE HERE ...\n",
    "# Membuat boxplot untuk hubungan \"hours-per-week\" dengan \"income\"\n",
    "plt.figure(figsize=(10, 10))\n",
    "sns.boxplot(x='income', y='hours-per-week', data=data)\n",
    "\n",
    "# Menambahkan judul dan label\n",
    "plt.title('Boxplot of Hours per Week by Income')\n",
    "plt.xlabel('Income')\n",
    "plt.ylabel('Hours per Week')\n",
    "plt.grid(True)\n",
    "\n",
    "# Menampilkan plot\n",
    "plt.show()"
   ]
  },
  {
   "cell_type": "markdown",
   "metadata": {
    "id": "JgThTcbluWZ8"
   },
   "source": [
    "### ii. Deskripsi\n",
    "\n",
    "   "
   ]
  },
  {
   "cell_type": "markdown",
   "metadata": {
    "id": "Md2WI7Y0uWZ9"
   },
   "source": [
    "# jelaskan hasil diagram tersebut\n",
    "# Ketik disini ...\n",
    "Jam Kerja untuk Penghasilan > 50k:\n",
    "*  Dari boxplot, terlihat bahwa individu yang memiliki penghasilan > 50k cenderung bekerja lebih banyak, dengan jam kerja per minggu berkisar antara 40 hingga 60 jam.\n",
    "*  Hal ini menunjukkan bahwa orang-orang dalam kelompok ini mungkin memiliki pekerjaan yang lebih menuntut atau posisi yang memerlukan komitmen waktu yang lebih tinggi.\n",
    "\n",
    "Jam Kerja untuk Penghasilan ≤ 50k:\n",
    "*  Sebaliknya, individu yang memiliki penghasilan ≤ 50k menunjukkan jam kerja yang lebih rendah, dengan rata-rata berkisar antara 35 hingga 40 jam per minggu.\n",
    "*  Ini mungkin mencerminkan jenis pekerjaan yang lebih fleksibel atau pekerjaan dengan jam kerja yang lebih sedikit, seperti pekerjaan paruh waktu atau pekerjaan dengan upah lebih rendah.\n",
    "\n",
    "Perbandingan yang Jelas:\n",
    "*  Terdapat perbedaan yang jelas dalam jam kerja antara kedua kelompok penghasilan tersebut.\n",
    "*  Individu dengan penghasilan lebih tinggi tidak hanya bekerja lebih banyak jam, tetapi juga menunjukkan potensi untuk mendapatkan lebih banyak pendapatan, yang dapat menjadi indikator dari jenis pekerjaan atau industri tertentu.\n",
    "\n",
    "Implikasi:\n",
    "*  Temuan ini dapat memberikan wawasan tentang hubungan antara waktu kerja dan penghasilan, serta bagaimana jam kerja dapat berkontribusi pada peningkatan pendapatan.\n",
    "*  Ini juga dapat membuka diskusi tentang keseimbangan kerja-hidup dan bagaimana pekerjaan dengan jam kerja lebih tinggi dapat mempengaruhi kesejahteraan individu."
   ]
  },
  {
   "cell_type": "markdown",
   "metadata": {
    "id": "fxajF-gguWZ9"
   },
   "source": [
    "### iii. Uji Hipotesis (untuk menguji hubungan antara hours-per-week & income)\n",
    "Dalam contoh ini kita dapat mengatakan bahwa:\n",
    "*  Null Hypothesis: Tidak ada perbedaan rata-rata kelompok pendapatan > 50k dan kelompok pendapatan <= 50k.\n",
    "*  Alternate Hypothesis: Ada perbedaan rata-rata kelompok pendapatan > 50k dan kelompok pendapatan <= 50k."
   ]
  },
  {
   "cell_type": "code",
   "execution_count": 97,
   "metadata": {
    "id": "byu38n7CuWZ-"
   },
   "outputs": [
    {
     "name": "stdout",
     "output_type": "stream",
     "text": [
      "T-statistic: 51.498497025288046, P-value: 0.0\n",
      "Tolak hipotesis nol: Ada perbedaan rata-rata jam kerja antara kedua kelompok.\n"
     ]
    }
   ],
   "source": [
    "# Buat uji hipotesis untuk menentukan null atau alternate hypothesis\n",
    "# CODE HERE ...\n",
    "# Pisahkan data berdasarkan kelompok pendapatan\n",
    "group_greater_50k = data[data['income'] == '>50K']['hours-per-week']\n",
    "group_less_equal_50k = data[data['income'] == '<=50K']['hours-per-week']\n",
    "\n",
    "# Lakukan uji t untuk dua sampel independen\n",
    "t_statistic, p_value = stats.ttest_ind(group_greater_50k, group_less_equal_50k)\n",
    "\n",
    "# Tentukan tingkat signifikansi\n",
    "alpha = 0.05\n",
    "\n",
    "# Interpretasi hasil\n",
    "print(f'T-statistic: {t_statistic}, P-value: {p_value}')\n",
    "\n",
    "if p_value < alpha:\n",
    "    print(\"Tolak hipotesis nol: Ada perbedaan rata-rata jam kerja antara kedua kelompok.\")\n",
    "else:\n",
    "    print(\"Gagal menolak hipotesis nol: Tidak ada perbedaan rata-rata jam kerja antara kedua kelompok.\")"
   ]
  },
  {
   "cell_type": "markdown",
   "metadata": {
    "id": "pL3sYxijuWZ-"
   },
   "source": [
    "### iv. Kesimpulan akhir\n"
   ]
  },
  {
   "cell_type": "raw",
   "metadata": {
    "id": "cTDgeDu0uWZ_"
   },
   "source": [
    "# Berikan kesimpulan\n",
    "# Ketik disini ...\n",
    "T-statistic: 51.50\n",
    "P-value: 0.0\n",
    "Karena P-value < 0.05, kita menolak hipotesis nol (H0).\n",
    "\n",
    "Implikasi\n",
    "*  Ada perbedaan signifikan dalam rata-rata jam kerja antara kelompok pendapatan > 50k dan ≤ 50k, di mana individu dengan penghasilan lebih tinggi cenderung bekerja lebih banyak jam per minggu.\n",
    "\n"
   ]
  },
  {
   "cell_type": "markdown",
   "metadata": {},
   "source": [
    "<div class=\"alert alert-warning\">\n",
    "<strong>Perhatian!</strong> Berikut merupakan cara konversi File IPYNB menjadi File PDF untuk melakukan pengumpulan tugas di Virtual Class. \n",
    "    <a href=\"https://youtu.be/qXELXtnAK7c\">Video konversi</a>.\n",
    "    </div>"
   ]
  },
  {
   "cell_type": "markdown",
   "metadata": {},
   "source": [
    "\n",
    "\n",
    "---\n",
    "\n",
    "\n",
    "Copyright © 2024 by Pengelola MK Praktikum Unggulan (Praktikum DGX), Universitas Gunadarma \n",
    "\n",
    "\n",
    "https://www.praktikum-hpc.gunadarma.ac.id/"
   ]
  }
 ],
 "metadata": {
  "colab": {
   "provenance": []
  },
  "kernelspec": {
   "display_name": "Python 3 (ipykernel)",
   "language": "python",
   "name": "python3"
  },
  "language_info": {
   "codemirror_mode": {
    "name": "ipython",
    "version": 3
   },
   "file_extension": ".py",
   "mimetype": "text/x-python",
   "name": "python",
   "nbconvert_exporter": "python",
   "pygments_lexer": "ipython3",
   "version": "3.11.7"
  }
 },
 "nbformat": 4,
 "nbformat_minor": 4
}
